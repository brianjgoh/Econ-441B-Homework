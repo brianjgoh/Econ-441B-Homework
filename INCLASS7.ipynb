{
 "cells": [
  {
   "cell_type": "code",
   "execution_count": 1,
   "metadata": {
    "id": "Q2A8TGhKm3i5"
   },
   "outputs": [],
   "source": [
    "import openai\n",
    "import os\n",
    "import wikipedia"
   ]
  },
  {
   "cell_type": "markdown",
   "metadata": {
    "id": "7E9HEMJSX-3T"
   },
   "source": [
    "# 1.) Set up OpenAI and the enviornment\n"
   ]
  },
  {
   "cell_type": "code",
   "execution_count": 3,
   "metadata": {
    "id": "4zwwdkZDYDZN"
   },
   "outputs": [],
   "source": [
    "openai.api_key = apikey"
   ]
  },
  {
   "cell_type": "code",
   "execution_count": 4,
   "metadata": {
    "id": "8IiKS0snlpYP"
   },
   "outputs": [],
   "source": [
    "client = openai.OpenAI(\n",
    "    api_key = openai.api_key\n",
    "    )"
   ]
  },
  {
   "cell_type": "markdown",
   "metadata": {
    "id": "tOXc5_BTm9HP"
   },
   "source": [
    "# 2.) Use the wikipedia api to get a function that pulls in the text of a wikipedia page"
   ]
  },
  {
   "cell_type": "code",
   "execution_count": 5,
   "metadata": {},
   "outputs": [],
   "source": [
    "page_titles = [\"Artificial Intelligence\", \"Machine Learning\"]"
   ]
  },
  {
   "cell_type": "code",
   "execution_count": 6,
   "metadata": {},
   "outputs": [],
   "source": [
    "page_title = page_titles[0]"
   ]
  },
  {
   "cell_type": "code",
   "execution_count": 7,
   "metadata": {
    "id": "ZF3BiZyXltYO"
   },
   "outputs": [],
   "source": [
    "def get_wikipedia_content(page_title):\n",
    "    search_results = wikipedia.search(page_title)\n",
    "    page = wikipedia.page(search_results[0])\n",
    "    return(page.content)"
   ]
  },
  {
   "cell_type": "markdown",
   "metadata": {
    "id": "_9aruncMmubX"
   },
   "source": [
    "# 3.) Build a chatgpt bot that will analyze the text given and try to locate any false info"
   ]
  },
  {
   "cell_type": "code",
   "execution_count": 8,
   "metadata": {},
   "outputs": [],
   "source": [
    "wiki_content = get_wikipedia_content(page_title)"
   ]
  },
  {
   "cell_type": "code",
   "execution_count": 9,
   "metadata": {
    "id": "Bmai3B6Dmw3O"
   },
   "outputs": [],
   "source": [
    "chat_completion = client.chat.completions.create(\n",
    "    model = \"gpt-4\",\n",
    "    messages = [{\"role\": \"system\", \"content\" : \"I will be giving you an article. I am looking for false information. I want to capture all potential false information, even if there is small potential for it to be wrong, please return it. Please concisely list only the false information found. If there is no false information, only return 'DONE'.\"},\n",
    "               {\"role\": \"user\", \"content\" : wiki_content[:8180]}]\n",
    "    )"
   ]
  },
  {
   "cell_type": "code",
   "execution_count": 10,
   "metadata": {
    "id": "1jI-un5PnDjg"
   },
   "outputs": [
    {
     "name": "stdout",
     "output_type": "stream",
     "text": [
      "1. \"Alan Turing was the first person to conduct substantial research in the field that he called machine intelligence.\" - While Alan Turing was indeed a pioneer in the field of artificial intelligence, calling him the \"first person\" to conduct substantial research might be misleading, as there were others also engaging in related research around the same time.\n",
      "2. \"The field went through multiple cycles of optimism, followed by periods of disappointment and loss of funding, known as AI winter.\" - The term 'AI winter' refers specifically to periods of disappointments when the progress and funding for AI slowed down substantially, not just any loss of funding.\n",
      "3. \"Funding and interest vastly increased after 2012 when deep learning surpassed all previous AI techniques, and after 2017 with the transformer architecture.\" - The statement suggesting that deep learning surpassed all previous AI techniques after 2012 is subjective and could be considered false information. While deep learning has certainly gained prominence and shown impressive results, it has not necessarily “surpassed all previous AI techniques” in every aspect or application.\n",
      "4. \"This led to the AI spring of the early 2020s, with companies, universities, and laboratories overwhelmingly based in the United States pioneering significant advances in artificial intelligence.\" - The usage of \"AI spring\" is potentially misleading as this term does not have a widely recognized or specific historical meaning in the same way AI winter does. This could be seen as an opinion, not factual information. Additionally, although the U.S. leads in certain aspects of AI, it is not accurate to state that the significant advances are \"overwhelmingly based in the United States\", as there have been considerable contributions from other countries as well.\n",
      "5. \"General intelligence (the ability to complete any task performable by a human) is among the field's long-term goals.\" - This is somewhat misleading as 'general intelligence' in AI refer to the capacity of a system to understand or learn any intellectual task that a human being can do, the exact parameters of which are currently undefined and a matter of substantial ongoing debate.\n",
      "6. \"A Markov decision process has a transition model that describes the probability that a particular action will change the state in a particular way, and a reward function that supplies the utility of each state and the cost of each action.\" - Markov Decision Process describes not the \"probability that a particular action will change the state in a particular way\" but the probabilities of different possible resultant states given a state and action.\n",
      "7. \"Machine learning is the study of programs that can improve their performance on a given task automatically. It has been a part of AI from the beginning.\" - Machine learning, although closely linked to, has not been a part of AI \"from the beginning\". It emerged as its own field within AI a few decades after AI's inception.\n"
     ]
    }
   ],
   "source": [
    "print(chat_completion.choices[0].message.content)"
   ]
  },
  {
   "cell_type": "code",
   "execution_count": 11,
   "metadata": {
    "id": "6FKAJVXSoayA"
   },
   "outputs": [],
   "source": [
    "def chatgpt_error_correction(text):\n",
    "    chat_completion = client.chat.completions.create(\n",
    "    model = \"gpt-4\",\n",
    "    messages = [{\"role\": \"system\", \"content\" : \"I will be giving you an article. I am looking for false information. I want to capture all potential false information, even if there is small potential for it to be wrong, please return it. Please concisely list only the false information found. If there is no false information, only return 'DONE'.\"},\n",
    "               {\"role\": \"user\", \"content\" : text[:8180]}]\n",
    "    )\n",
    "    print(chat_completion.choices[0].message.content)"
   ]
  },
  {
   "cell_type": "markdown",
   "metadata": {
    "id": "zPw5LyPEobmk"
   },
   "source": [
    "# 4.) Make a for loop and check a few wikipedia pages and return a report of any potentially false info via wikipedia"
   ]
  },
  {
   "cell_type": "code",
   "execution_count": 12,
   "metadata": {
    "id": "V7cuhML2ocGn"
   },
   "outputs": [],
   "source": [
    "page_titles = [\"Artificial Intelligence\", \"UCLA\", \"Youtube\", \"Ronaldo\", \"Microsoft\"]"
   ]
  },
  {
   "cell_type": "code",
   "execution_count": 13,
   "metadata": {},
   "outputs": [
    {
     "name": "stdout",
     "output_type": "stream",
     "text": [
      "__________Artificial Intelligence\n",
      "1. Alan Turing was not necessarily the first person to conduct substantial research in the field of AI. Many early computation thinkers, like Ada Lovelace and George Boole, laid groundwork crucial to the development of AI.\n",
      "2. The precise timeline and causes of the \"AI spring\" of the early 2020s is debated, it wasn't solely led by U.S entities.\n",
      "3. The phrase \"superhuman play and analysis in strategy games\" should be qualified - while AI has accomplished great feats in these games, it doesn't surpass every aspect of human performance.\n",
      "4. The assertion that general intelligence is a long-term goal in AI research implies that achieving this is a universally agreed-upon objective, when in fact, there is significant debate in the field about the feasibility and desirability of such a goal.\n",
      "5. Equating an AI agent's calculation of \"expected utility\" with a human-like concept of preference may be misleading. These systems don't experience preference or satisfaction in the same way humans do.\n",
      "__________UCLA\n",
      "1. The University of California, Los Angeles (UCLA) was not established in 1881. Its founding year is 1919. \n",
      "2. It was not the southern branch of the California State Normal School which became the UCLA. In fact, it was the Los Angeles State Normal School that was transferred to the UC system and became UCLA. \n",
      "3. San José State University is not a direct evolution of the California State Normal School's southern branch, rather it originated from the original California State Normal School located in San Jose. \n",
      "\n",
      "Note: The source doesn't provide exact numbers on UCLA undergraduate and graduate degree programs, number of annual student enrollment, and undergraduate applications for Fall 2022. Therefore, these details couldn't be fully verified.\n",
      "__________Youtube\n",
      "1. YouTube is not the second most visited website in the world, but the third with Google Search and Facebook taking the first two places.\n",
      "2. By 2023 prediction of 14 billion videos in total is speculative and can't be confirmed as true.\n",
      "3. The statement about YouTube's annual advertising revenue increasing to $28.8 billion in 2021 might be inaccurate since YouTube's reported revenue was $20 billion in 2020, making the $9 billion increase dubious.\n",
      "4. The line asserting that videos were uploaded at a rate of more than 500 hours per minute as of May 2019 might be false as several sources show that by 2020, the rate was 500 hours of video every minute.\n",
      "5. The claim that YouTube was not the first video-sharing site on the Internet might be inaccurate, since YouTube was a pioneer and its main competitors appeared later.\n",
      "6. The statement stating the name www.youtube.com led to problems for a similarly named website, www.utube.com might be false. 'Utube' a different establishment, not related to 'YouTube'.\n",
      "7. The assertion that by 2010, YouTube had a market share of around 43% is vague to verify, indicating it might be inaccurate. \n",
      "8. The statement about the rapid growth of YouTube consuming as much bandwidth as the entire Internet in 2000 is unlikely to be true since bandwidth consumption also depends on many other factors besides traffic in 2000.\n",
      "9. The claim that in 2007, more than 100 hours of video content were being uploaded every minute is false. That figure was valid for 2013, not 2007.\n",
      "__________Ronaldo\n",
      "1. Cristiano Ronaldo does not play for Saudi Pro League club Al Nassr; he plays for Manchester United.\n",
      "2. Cristiano Ronaldo has not won a record three UEFA Men's Player of the Year Awards; he has won the award two times.\n",
      "3. Cristiano Ronaldo did not return to Manchester United in 2021, finish his only full season as the club's top scorer, and then have his contract terminated in 2022.\n",
      "4. Cristiano Ronaldo did not sign for Al Nassr in 2023.\n",
      "5. Cristiano Ronaldo's mother, Dolores Aveiro, did not state in 2021 in an interview for Sporting CP's official television channel (Sporting TV) that her son would be a bricklayer if he hadn't become a professional football player.\n",
      "__________Microsoft\n",
      "1. The information stating, \"the largest being the acquisition of Activision Blizzard for $68.7 billion in October 2023\" is potentially false as the event has not occurred yet and we cannot predict precise dates or amounts of future acquisitions.\n",
      "2. The statement, \"Microsoft Gaming is the third-largest gaming company in the world by revenue as of 2023\" is potentially false because we can't confirm future rankings.\n",
      "3. The sentence, \"As of 2023, Microsoft has the third-highest global brand valuation\" is potentially false as it refers to a future event that can't be confirmed now.\n",
      "4. The text claims, \"Since Satya Nadella took over as CEO in 2014, the company has scaled back on hardware and instead focused on cloud computing,\" which could be false as Microsoft has continued to release hardware products like the Surface series and Xbox consoles even after Satya Nadella took over. \n",
      "5. The information, \"Under Nadella's direction, the company has also heavily expanded its gaming business to support the Xbox brand, establishing the Microsoft Gaming division in 2022\" is potentially false as no verified information supports this claim.\n"
     ]
    }
   ],
   "source": [
    "for page_title in page_titles:\n",
    "    try:\n",
    "        print(\"__________\" + page_title)\n",
    "        content = get_wikipedia_content(page_title)\n",
    "        chatgpt_error_correction(content)\n",
    "    except:\n",
    "        print(\"ERROR\")\n",
    "        "
   ]
  }
 ],
 "metadata": {
  "colab": {
   "provenance": []
  },
  "kernelspec": {
   "display_name": "Python 3 (ipykernel)",
   "language": "python",
   "name": "python3"
  },
  "language_info": {
   "codemirror_mode": {
    "name": "ipython",
    "version": 3
   },
   "file_extension": ".py",
   "mimetype": "text/x-python",
   "name": "python",
   "nbconvert_exporter": "python",
   "pygments_lexer": "ipython3",
   "version": "3.11.4"
  }
 },
 "nbformat": 4,
 "nbformat_minor": 1
}
