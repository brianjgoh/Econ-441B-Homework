{
 "cells": [
  {
   "cell_type": "code",
   "execution_count": 1,
   "id": "55621e94",
   "metadata": {},
   "outputs": [],
   "source": [
    "import pandas as pd\n",
    "import numpy as np\n",
    "import matplotlib.pyplot as plt"
   ]
  },
  {
   "cell_type": "markdown",
   "id": "a055ebb7",
   "metadata": {},
   "source": [
    "# 1.) Clean the Apple Data to get a quarterly series of EPS."
   ]
  },
  {
   "cell_type": "code",
   "execution_count": 2,
   "id": "365b253b",
   "metadata": {},
   "outputs": [],
   "source": [
    "y = pd.read_csv(\"AAPL_quarterly_financials.csv\")"
   ]
  },
  {
   "cell_type": "code",
   "execution_count": 3,
   "id": "8932850f",
   "metadata": {},
   "outputs": [],
   "source": [
    "y.index = y.name"
   ]
  },
  {
   "cell_type": "code",
   "execution_count": 4,
   "id": "449862e7",
   "metadata": {},
   "outputs": [],
   "source": [
    "y = pd.DataFrame(y.loc[\"BasicEPS\", :]).iloc[2:,:]"
   ]
  },
  {
   "cell_type": "code",
   "execution_count": 5,
   "id": "c39e6c1d",
   "metadata": {},
   "outputs": [],
   "source": [
    "y.index = pd.to_datetime(y.index)"
   ]
  },
  {
   "cell_type": "code",
   "execution_count": 6,
   "id": "15452f18",
   "metadata": {},
   "outputs": [],
   "source": [
    "# CHECK IF NAS ARE NO DIVIDEND PERIOD\n",
    "y = y.sort_index().fillna(0.)"
   ]
  },
  {
   "cell_type": "code",
   "execution_count": 7,
   "id": "75a8fc89",
   "metadata": {},
   "outputs": [
    {
     "data": {
      "text/html": [
       "<div>\n",
       "<style scoped>\n",
       "    .dataframe tbody tr th:only-of-type {\n",
       "        vertical-align: middle;\n",
       "    }\n",
       "\n",
       "    .dataframe tbody tr th {\n",
       "        vertical-align: top;\n",
       "    }\n",
       "\n",
       "    .dataframe thead th {\n",
       "        text-align: right;\n",
       "    }\n",
       "</style>\n",
       "<table border=\"1\" class=\"dataframe\">\n",
       "  <thead>\n",
       "    <tr style=\"text-align: right;\">\n",
       "      <th></th>\n",
       "      <th>BasicEPS</th>\n",
       "    </tr>\n",
       "  </thead>\n",
       "  <tbody>\n",
       "    <tr>\n",
       "      <th>1985-09-30</th>\n",
       "      <td>0.0</td>\n",
       "    </tr>\n",
       "    <tr>\n",
       "      <th>1985-12-31</th>\n",
       "      <td>0.004</td>\n",
       "    </tr>\n",
       "    <tr>\n",
       "      <th>1986-03-31</th>\n",
       "      <td>0.002</td>\n",
       "    </tr>\n",
       "    <tr>\n",
       "      <th>1986-06-30</th>\n",
       "      <td>0.002</td>\n",
       "    </tr>\n",
       "    <tr>\n",
       "      <th>1986-09-30</th>\n",
       "      <td>0.0</td>\n",
       "    </tr>\n",
       "  </tbody>\n",
       "</table>\n",
       "</div>"
      ],
      "text/plain": [
       "           BasicEPS\n",
       "1985-09-30      0.0\n",
       "1985-12-31    0.004\n",
       "1986-03-31    0.002\n",
       "1986-06-30    0.002\n",
       "1986-09-30      0.0"
      ]
     },
     "execution_count": 7,
     "metadata": {},
     "output_type": "execute_result"
    }
   ],
   "source": [
    "y.head()"
   ]
  },
  {
   "cell_type": "markdown",
   "id": "f660ca3c",
   "metadata": {},
   "source": [
    "# 2.) Come up with 6 search terms you think could nowcast earnings. (Different than the ones I used) Add in 3 terms that that you think will not Nowcast earnings. Pull in the gtrends data"
   ]
  },
  {
   "cell_type": "code",
   "execution_count": 8,
   "id": "101a8370",
   "metadata": {},
   "outputs": [],
   "source": [
    "from pytrends.request import TrendReq"
   ]
  },
  {
   "cell_type": "code",
   "execution_count": 9,
   "id": "715787dd",
   "metadata": {},
   "outputs": [],
   "source": [
    "# Create pytrends object\n",
    "pytrends = TrendReq(hl='en-US', tz=360)\n",
    "\n",
    "# Set up the keywords and the timeframe\n",
    "keywords = [\"iPhone\", \"Recession\", \"Samsung\", \"Interest Rates\", \"New Phone\", \"Buy iPhone\", \"Sell iPhone\", \"Android\", \"Amazon\", \"Best Buy\", \"Black Friday\", \"iPad\", \"Mac\", \"Water\", \"Ronaldo\", \"Daylight Savings\"]  # Add your keywords here\n",
    "start_date = '2004-01-01'\n",
    "end_date = '2024-01-01'\n",
    "\n",
    "# Create an empty DataFrame to store the results\n",
    "df = pd.DataFrame()\n",
    "\n",
    "# Iterate through keywords and fetch data\n",
    "for keyword in keywords:\n",
    "    pytrends.build_payload([keyword], cat=0, timeframe=f'{start_date} {end_date}', geo='', gprop='')\n",
    "    interest_over_time_df = pytrends.interest_over_time()\n",
    "    df[keyword] = interest_over_time_df[keyword]"
   ]
  },
  {
   "cell_type": "code",
   "execution_count": 10,
   "id": "22bbb744",
   "metadata": {},
   "outputs": [],
   "source": [
    "X = df.resample(\"Q\").mean()"
   ]
  },
  {
   "cell_type": "code",
   "execution_count": 11,
   "id": "c925f043",
   "metadata": {},
   "outputs": [],
   "source": [
    "# ALIGN DATA\n",
    "temp = pd.concat([y, X],axis = 1).dropna()\n",
    "y = temp[[\"BasicEPS\"]].copy()\n",
    "X = temp.iloc[:,1:].copy()"
   ]
  },
  {
   "cell_type": "markdown",
   "id": "863d55e4",
   "metadata": {},
   "source": [
    "# 3.) Normalize all the X data"
   ]
  },
  {
   "cell_type": "code",
   "execution_count": 12,
   "id": "8325a0f4",
   "metadata": {},
   "outputs": [],
   "source": [
    "from sklearn.preprocessing import StandardScaler"
   ]
  },
  {
   "cell_type": "code",
   "execution_count": 13,
   "id": "bc2504ab",
   "metadata": {},
   "outputs": [],
   "source": [
    "scaler = StandardScaler()\n",
    "X_scaled = scaler.fit_transform(X.values)"
   ]
  },
  {
   "cell_type": "code",
   "execution_count": 14,
   "id": "c1746efa",
   "metadata": {},
   "outputs": [
    {
     "data": {
      "text/plain": [
       "array([[-1.83115076, -0.76991448, -1.72785119, ..., -0.52672856,\n",
       "        -1.85134401,  0.01032706],\n",
       "       [-1.83115076, -0.75074548, -1.763375  , ...,  0.04722394,\n",
       "        -1.48515429, -0.42897016],\n",
       "       [-1.83115076, -0.82742149, -1.56799404, ...,  0.04722394,\n",
       "        -0.75277483, -0.80551063],\n",
       "       ...,\n",
       "       [ 0.54113868,  0.8594507 , -0.11151779, ...,  1.69081518,\n",
       "         1.55422045,  0.95167824],\n",
       "       [ 0.29741031,  0.59108467, -0.25361303, ...,  1.87343643,\n",
       "         0.56550819, -1.15067273],\n",
       "       [ 0.8011156 ,  0.07352162,  0.01281555, ...,  2.02996893,\n",
       "         0.34579435, -0.67999714]])"
      ]
     },
     "execution_count": 14,
     "metadata": {},
     "output_type": "execute_result"
    }
   ],
   "source": [
    "X_scaled"
   ]
  },
  {
   "cell_type": "code",
   "execution_count": 15,
   "id": "3c46e7e9",
   "metadata": {},
   "outputs": [
    {
     "data": {
      "text/plain": [
       "array([[ 0.        ,  7.66666667, 24.66666667, ..., 61.        ,\n",
       "         5.33333333, 15.33333333],\n",
       "       [ 0.        ,  8.        , 24.        , ..., 68.33333333,\n",
       "         8.66666667, 10.66666667],\n",
       "       [ 0.        ,  6.66666667, 27.66666667, ..., 68.33333333,\n",
       "        15.33333333,  6.66666667],\n",
       "       ...,\n",
       "       [48.66666667, 36.        , 55.        , ..., 89.33333333,\n",
       "        36.33333333, 25.33333333],\n",
       "       [43.66666667, 31.33333333, 52.33333333, ..., 91.66666667,\n",
       "        27.33333333,  3.        ],\n",
       "       [54.        , 22.33333333, 57.33333333, ..., 93.66666667,\n",
       "        25.33333333,  8.        ]])"
      ]
     },
     "execution_count": 15,
     "metadata": {},
     "output_type": "execute_result"
    }
   ],
   "source": [
    "X.values"
   ]
  },
  {
   "cell_type": "markdown",
   "id": "925f79f5",
   "metadata": {},
   "source": [
    "# 4.) Run a Lasso with lambda of .5. Plot a bar chart."
   ]
  },
  {
   "cell_type": "code",
   "execution_count": 16,
   "id": "d829a004",
   "metadata": {},
   "outputs": [],
   "source": [
    "from sklearn.linear_model import Lasso"
   ]
  },
  {
   "cell_type": "code",
   "execution_count": 17,
   "id": "a7568a9d",
   "metadata": {},
   "outputs": [],
   "source": [
    "Lasso = Lasso(alpha = 0.5)"
   ]
  },
  {
   "cell_type": "code",
   "execution_count": 18,
   "id": "5e19efe6",
   "metadata": {},
   "outputs": [],
   "source": [
    "model = Lasso.fit(X_scaled, y)"
   ]
  },
  {
   "cell_type": "code",
   "execution_count": 19,
   "id": "1ae8d429",
   "metadata": {},
   "outputs": [],
   "source": [
    "predictions = model.predict(np.array(X_scaled))"
   ]
  },
  {
   "cell_type": "code",
   "execution_count": 20,
   "id": "fd87f09b",
   "metadata": {},
   "outputs": [],
   "source": [
    "coefficients = model.coef_"
   ]
  },
  {
   "cell_type": "code",
   "execution_count": 21,
   "id": "c54e8a3d",
   "metadata": {},
   "outputs": [
    {
     "data": {
      "image/png": "[encoded data removed]",
      "text/plain": [
       "<Figure size 1200x500 with 1 Axes>"
      ]
     },
     "metadata": {},
     "output_type": "display_data"
    }
   ],
   "source": [
    "plt.figure(figsize = (12,5))\n",
    "plt.bar(range(len(coefficients)), coefficients)\n",
    "plt.xticks(ticks = range(0,len(X.columns)) ,labels = list(X.columns), rotation = 'vertical')\n",
    "plt.axhline(0, color = \"red\")\n",
    "plt.show()"
   ]
  },
  {
   "cell_type": "markdown",
   "id": "96278b34",
   "metadata": {},
   "source": [
    "# 5.) Do these coefficient magnitudes make sense?"
   ]
  },
  {
   "cell_type": "markdown",
   "id": "8acf5d41",
   "metadata": {},
   "source": [
    "By using a Lambda of 0.5, it looks like all the coefficients have been shrunk to 0. This suggests that the keywords chosen are all weak predictors of Apple's earnings per shares.  \n",
    "\n",
    "The 0 values of the coefficients might have been due to the normalization of the X data. Usually, we would need to normalize the X data when the predictors are off different scales to avoid more importance being placed on the predictors or larger scales. However, since all our predictors are internet search interests, they would have the same scale and thus normalizing them might not be necessary. We can try to run the lasso again without normalizing to see if the results are different."
   ]
  },
  {
   "cell_type": "code",
   "execution_count": 22,
   "id": "e7560947",
   "metadata": {},
   "outputs": [
    {
     "data": {
      "image/png": "[encoded data removed]",
      "text/plain": [
       "<Figure size 1200x500 with 1 Axes>"
      ]
     },
     "metadata": {},
     "output_type": "display_data"
    }
   ],
   "source": [
    "from sklearn.linear_model import Lasso\n",
    "Lasso = Lasso(alpha = 0.5)\n",
    "model = Lasso.fit(X.values, y)\n",
    "predictions = model.predict(np.array(X_scaled))\n",
    "coefficients = model.coef_\n",
    "plt.figure(figsize = (12,5))\n",
    "plt.bar(range(len(coefficients)), coefficients)\n",
    "plt.xticks(ticks = range(0,len(X.columns)) ,labels = list(X.columns), rotation = 'vertical')\n",
    "plt.axhline(0, color = \"red\")\n",
    "plt.show()"
   ]
  },
  {
   "cell_type": "markdown",
   "id": "d55f78fb",
   "metadata": {},
   "source": [
    "When running the lasso again without normalizing the data, we notice that most of the predictors have been shrunk to 0. The predictor Amazon has the highest positive coefficient, which would make sense as many people make their purchases on amazon and people of frequent amazon might be more likely to purchase apple products, especially if they see any good deals on the platform. Interest rates, according to the model, is a weak positive predictor of apple's earnings. A relationship between consumer's interest in interest rates also makes sense, as higher interest rates typically have a negative effect on earnings, and people searching for interest rates might be deciding whether to save their money or spend it based on the current interest rates. Ronaldo being a weak positive predictor of apple's earnings is quite surprising, as he is a professional athelete and should have no correlation to apple's earnings.  \n",
    "\n",
    "Android is a weak negative predictor of apple's earnings, which makes sense as android phones are the main competitor of iphones. Mac being a negative predictor of apple's earnings is surpising since Macs are apple's line of desktop computers, though this relation may be due to the fact that the term \"Mac\" can mean a few other things besides Macintosh computers, such as the lipstick brand of Mcdonald's Big Mac burgers."
   ]
  }
 ],
 "metadata": {
  "kernelspec": {
   "display_name": "Python 3 (ipykernel)",
   "language": "python",
   "name": "python3"
  },
  "language_info": {
   "codemirror_mode": {
    "name": "ipython",
    "version": 3
   },
   "file_extension": ".py",
   "mimetype": "text/x-python",
   "name": "python",
   "nbconvert_exporter": "python",
   "pygments_lexer": "ipython3",
   "version": "3.11.4"
  }
 },
 "nbformat": 4,
 "nbformat_minor": 5
}
